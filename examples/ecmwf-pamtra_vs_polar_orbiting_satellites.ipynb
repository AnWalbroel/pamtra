{
 "cells": [
  {
   "cell_type": "markdown",
   "metadata": {},
   "source": [
    "# Using polar orbiting passive microwave satellites for evaluating ECMWF IFS\n",
    "Here we make use of PAMTRA to accomplish the model-to-obs approach for ECMWF IFS that enables us to use passive microwave instruments on polar orbiting satellites for model evaluation.\n",
    "\n",
    "Start by importing all we need to run PAMTRA."
   ]
  },
  {
   "cell_type": "code",
   "execution_count": 1,
   "metadata": {},
   "outputs": [],
   "source": [
    "import numpy as np\n",
    "import pyPamtra"
   ]
  },
  {
   "cell_type": "markdown",
   "metadata": {},
   "source": [
    "Define a descriptor file for four hydrometeors."
   ]
  },
  {
   "cell_type": "code",
   "execution_count": 2,
   "metadata": {},
   "outputs": [],
   "source": [
    "descriptorFile = np.array([\n",
    "        #['hydro_name' 'as_ratio' 'liq_ice' 'rho_ms' 'a_ms' 'b_ms' 'alpha_as' 'beta_as' 'moment_in' 'nbin' 'dist_name' 'p_1' 'p_2' 'p_3' 'p_4' 'd_1' 'd_2' 'scat_name' 'vel_size_mod' 'canting']\n",
    "        ('cwc_q', -99.0,  1, -99.0,   -99.0, -99.0,  -99.0, -99.0, 3, 1, 'mono', -99.0, -99.0,   2.0,    1.0,   2.0e-6,   8.0e-5, 'mie-sphere', 'khvorostyanov01_drops', -99.0),\n",
    "        ('iwc_q', 1.0, -1, 700.0, -99.0,  -99.0,  -99.0,   -99.0, 3, 1, 'mono', -99.0, -99.0, 1.564, 0.8547, 1.744e-5, 9.369e-3, 'mie-sphere',   'heymsfield10_particles',  -99.0),\n",
    "        ('rwc_q', -99.0,  1, -99.0,   -99.0, -99.0,  -99.0, -99.0, 3, 50, 'exp', 0.22, 2.2,   -99.0,    -99.0,  0.00012,   0.006, 'mie-sphere', 'khvorostyanov01_drops',  -99.0),\n",
    "        ('swc_q', 1.0, -1, -99.0,   0.069,   2.0, 0.3971,  1.88, 3, 50, 'exp', 2.e06, 0.,  -99.0,  -99.0,  2.e-04,  0.02, 'mie-sphere',   'heymsfield10_particles',  -99.0)],\n",
    "        dtype=[('hydro_name', 'S15'), ('as_ratio', '<f8'), ('liq_ice', '<i8'), ('rho_ms', '<f8'), ('a_ms', '<f8'), ('b_ms', '<f8'), ('alpha_as', '<f8'), ('beta_as', '<f8'), ('moment_in', '<i8'), ('nbin', '<i8'), ('dist_name', 'S15'), ('p_1', '<f8'), ('p_2', '<f8'), ('p_3', '<f8'), ('p_4', '<f8'), ('d_1', '<f8'), ('d_2', '<f8'), ('scat_name', 'S20'), ('vel_size_mod', 'S30'), ('canting', '<f8')] \n",
    "        )"
   ]
  },
  {
   "cell_type": "code",
   "execution_count": 3,
   "metadata": {},
   "outputs": [
    {
     "name": "stdout",
     "output_type": "stream",
     "text": [
      "opening 1 of 1 data/P20160926_19\n",
      "opening 1 of 1 data/nawdex_cst\n",
      "opening 1 of 1 data/landseamask\n"
     ]
    },
    {
     "name": "stderr",
     "output_type": "stream",
     "text": [
      "/home/mech/lib/python/pyPamtra/core.py:820: Warning: timestamp set to now\n",
      "  warnings.warn(\"timestamp set to now\", Warning)\n",
      "/home/mech/lib/python/pyPamtra/core.py:837: Warning: lat set to 50.938056\n",
      "  warnings.warn(\"%s set to %s\"%(environment,preset,), Warning)\n",
      "/home/mech/lib/python/pyPamtra/core.py:837: Warning: lon set to 6.956944\n",
      "  warnings.warn(\"%s set to %s\"%(environment,preset,), Warning)\n",
      "/home/mech/lib/python/pyPamtra/core.py:837: Warning: sfc_salinity set to 33.0\n",
      "  warnings.warn(\"%s set to %s\"%(environment,preset,), Warning)\n",
      "/home/mech/lib/python/pyPamtra/core.py:837: Warning: sfc_slf set to 1.0\n",
      "  warnings.warn(\"%s set to %s\"%(environment,preset,), Warning)\n",
      "/home/mech/lib/python/pyPamtra/core.py:837: Warning: sfc_sif set to 0.0\n",
      "  warnings.warn(\"%s set to %s\"%(environment,preset,), Warning)\n",
      "/home/mech/lib/python/pyPamtra/core.py:870: Warning: obs_height set to [833000.0, 0.0]\n",
      "  warnings.warn(\"%s set to %s\"%(environment,preset,), Warning)\n",
      "/home/mech/lib/python/pyPamtra/core.py:880: Warning: hydro_reff set to 0\n",
      "  warnings.warn(qValue + \" set to 0\", Warning)\n",
      "/home/mech/lib/python/pyPamtra/core.py:880: Warning: hydro_n set to 0\n",
      "  warnings.warn(qValue + \" set to 0\", Warning)\n",
      "/home/mech/lib/python/pyPamtra/core.py:891: Warning: airturb set to nan\n",
      "  warnings.warn(qValue + \" set to nan\", Warning)\n",
      "/home/mech/lib/python/pyPamtra/core.py:891: Warning: wind_w set to nan\n",
      "  warnings.warn(qValue + \" set to nan\", Warning)\n",
      "/home/mech/lib/python/pyPamtra/core.py:891: Warning: wind_uv set to nan\n",
      "  warnings.warn(qValue + \" set to nan\", Warning)\n",
      "/home/mech/lib/python/pyPamtra/core.py:891: Warning: turb_edr set to nan\n",
      "  warnings.warn(qValue + \" set to nan\", Warning)\n"
     ]
    }
   ],
   "source": [
    "grid = [75,225,100,200]\n",
    "pam = pyPamtra.importer.readECMWF('data/P20160926_19','data/nawdex_cst',descriptorFile,'data/landseamask',grid=grid)"
   ]
  },
  {
   "cell_type": "markdown",
   "metadata": {},
   "source": [
    "The model data do not include latitude and longitude grids. For PAMTRA these are only needed if the grid point is over land or sea ice. In these cases the TELSEM2 emissivity maps are used to provide a surface emissivity.\n",
    "\n",
    "The example shown her is over ocean. Therefore, the surface emissivity is calculated with TESSEM2. Nevertheless, latitude and longitude grids are needed for the convolution with the satellite swaths and field of views in the latter steps. "
   ]
  },
  {
   "cell_type": "code",
   "execution_count": 4,
   "metadata": {},
   "outputs": [],
   "source": [
    "# create latitude and longitude grid\n",
    "latrange = np.arange(40.,80.01,0.1)\n",
    "lonrange = np.arange(-50.,-9.91,0.1)\n",
    "\n",
    "lats = np.zeros((1,grid[3]-grid[2]))\n",
    "lats[0,:] = latrange[grid[2]:grid[3]]\n",
    "pam.p['lat'][:,:] = np.repeat(lats,grid[1]-grid[0],axis=0)\n",
    "\n",
    "lons = np.zeros((grid[1]-grid[0],1))\n",
    "lons[:,0] = lonrange[grid[0]:grid[1]]\n",
    "pam.p['lon'][:,:] = np.repeat(lons,grid[3]-grid[2],axis=1)"
   ]
  },
  {
   "cell_type": "markdown",
   "metadata": {},
   "source": [
    "Switch of active simulation."
   ]
  },
  {
   "cell_type": "code",
   "execution_count": 5,
   "metadata": {},
   "outputs": [],
   "source": [
    "pam.nmlSet['active'] = False"
   ]
  },
  {
   "cell_type": "raw",
   "metadata": {},
   "source": [
    "Provide frequency grid."
   ]
  },
  {
   "cell_type": "code",
   "execution_count": 6,
   "metadata": {},
   "outputs": [],
   "source": [
    "freqs = [50.3,89.0,157.0]"
   ]
  },
  {
   "cell_type": "markdown",
   "metadata": {},
   "source": [
    "Run PAMTRA in parallel mode for 10x10 chunks. Depending on your hardware, this may take some time. "
   ]
  },
  {
   "cell_type": "code",
   "execution_count": 7,
   "metadata": {},
   "outputs": [],
   "source": [
    "pam.runParallelPamtra(freqs,pp_deltaX=10,pp_deltaY=10,pp_deltaF=1,pp_local_workers='auto')"
   ]
  },
  {
   "cell_type": "markdown",
   "metadata": {},
   "source": [
    "Write results to file for latter use."
   ]
  },
  {
   "cell_type": "code",
   "execution_count": 8,
   "metadata": {},
   "outputs": [],
   "source": [
    "pam.writeResultsToNetCDF('data/ecmwf_mie.nc')"
   ]
  },
  {
   "cell_type": "markdown",
   "metadata": {},
   "source": [
    "Now, after doing the simulations with Mie scattering method for cloud ice and snow, change to Self-similar Rayleigh-Gans approximation and provide an aspect ratio for snow."
   ]
  },
  {
   "cell_type": "code",
   "execution_count": 9,
   "metadata": {},
   "outputs": [],
   "source": [
    "pam.df.data[1][17] = 'ssrg-rt3' # scattering method for cloud ice\n",
    "pam.df.data[3][17] = 'ssrg-rt3' # scattering method for snow\n",
    "pam.df.data[3][1] = 0.6 # aspect ratio of snow"
   ]
  },
  {
   "cell_type": "markdown",
   "metadata": {},
   "source": [
    "Run PAMTRA again in parallel mode for 10x10 chunks. Depending on your hardware, this may take some time."
   ]
  },
  {
   "cell_type": "code",
   "execution_count": 10,
   "metadata": {},
   "outputs": [],
   "source": [
    "pam.runParallelPamtra(freqs,pp_deltaX=10,pp_deltaY=10,pp_deltaF=1,pp_local_workers='auto')"
   ]
  },
  {
   "cell_type": "markdown",
   "metadata": {},
   "source": [
    "Write results to file for latter use."
   ]
  },
  {
   "cell_type": "code",
   "execution_count": 11,
   "metadata": {},
   "outputs": [],
   "source": [
    "pam.writeResultsToNetCDF('data/ecmwf_ssrga.nc')"
   ]
  },
  {
   "cell_type": "markdown",
   "metadata": {},
   "source": [
    "The figure in the paper is produced by applying a convolution of the simulated fields with the satellite instruments swath and field of view. This is not part of the example as it has nothing to do with PAMTRA itself. A description of the algorithm can be found in M. Mech 2008: Potential of millimeter- and submillimeter-wave satellite observations for hydrometeor studies DOI: https://doi.org/10.23689/fidgeo-278. Nevertheless, if the user is interested in performing these convolutions makeConvolution.py, satConvolutions.py, Swath.py, and SwathAMSU.py need to be downloaded."
   ]
  },
  {
   "cell_type": "code",
   "execution_count": null,
   "metadata": {},
   "outputs": [],
   "source": []
  }
 ],
 "metadata": {
  "kernelspec": {
   "display_name": "Python 2",
   "language": "python",
   "name": "python2"
  },
  "language_info": {
   "codemirror_mode": {
    "name": "ipython",
    "version": 2
   },
   "file_extension": ".py",
   "mimetype": "text/x-python",
   "name": "python",
   "nbconvert_exporter": "python",
   "pygments_lexer": "ipython2",
   "version": "2.7.12"
  }
 },
 "nbformat": 4,
 "nbformat_minor": 2
}
