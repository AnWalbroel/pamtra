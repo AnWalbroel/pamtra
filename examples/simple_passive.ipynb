{
 "cells": [
  {
   "cell_type": "markdown",
   "metadata": {},
   "source": [
    "# Frequency spectrum"
   ]
  },
  {
   "cell_type": "code",
   "execution_count": 1,
   "metadata": {},
   "outputs": [],
   "source": [
    "from __future__ import division # defines natural divisions like 1./2. = 1/2 = 0.5 and not 1/2 = 0\n",
    "import pyPamtra  # import pyPamtra\n",
    "import matplotlib.pyplot as plt  # import ploting modules\n",
    "import numpy as np # import numpy for arrays, numerical array operations, ....\n",
    "import pandas as pn # import pandas data analysis library\n",
    "%matplotlib inline"
   ]
  },
  {
   "cell_type": "markdown",
   "metadata": {},
   "source": [
    "Create a pyPamtra object"
   ]
  },
  {
   "cell_type": "code",
   "execution_count": 2,
   "metadata": {},
   "outputs": [],
   "source": [
    "pam = pyPamtra.pyPamtra()"
   ]
  },
  {
   "cell_type": "markdown",
   "metadata": {},
   "source": [
    "Define the hydrometeor classes. Replace \"mie-sphere\" by \"disabled\" to turn off hydrometeor. Everything in SI units!"
   ]
  },
  {
   "cell_type": "code",
   "execution_count": 3,
   "metadata": {},
   "outputs": [],
   "source": [
    "descriptorFile = np.array([\n",
    "      #['hydro_name' 'as_ratio' 'liq_ice' 'rho_ms' 'a_ms' 'b_ms' 'alpha_as' 'beta_as' 'moment_in' 'nbin' 'dist_name' 'p_1' 'p_2' 'p_3' 'p_4' 'd_1' 'd_2' 'scat_name' 'vel_size_mod' 'canting']\n",
    "       ('cwc_q', -99.0, 1, -99.0, -99.0, -99.0, -99.0, -99.0, 3, 1, 'mono', -99.0, -99.0, -99.0, -99.0, 2e-05, -99.0, 'mie-sphere', 'khvorostyanov01_drops', -99.0),\n",
    "       ('iwc_q', -99.0, -1, -99.0, 130.0, 3.0, 0.684, 2.0, 3, 1, 'mono_cosmo_ice', -99.0, -99.0, -99.0, -99.0, -99.0, -99.0, 'mie-sphere', 'heymsfield10_particles', -99.0),\n",
    "       ('rwc_q', -99.0, 1, -99.0, -99.0, -99.0, -99.0, -99.0, 3, 50, 'exp', -99.0, -99.0, 8000000.0, -99.0, 0.00012, 0.006, 'mie-sphere', 'khvorostyanov01_drops', -99.0),\n",
    "       ('swc_q', -99.0, -1, -99.0, 0.038, 2.0, 0.3971, 1.88, 3, 50, 'exp_cosmo_snow', -99.0, -99.0, -99.0, -99.0, 5.1e-11, 0.02, 'mie-sphere', 'heymsfield10_particles', -99.0),\n",
    "       ('gwc_q', -99.0, -1, -99.0, 169.6, 3.1, -99.0, -99.0, 3, 50, 'exp', -99.0, -99.0, 4000000.0, -99.0, 1e-10, 0.01, 'mie-sphere', 'khvorostyanov01_spheres', -99.0)], \n",
    "      dtype=[('hydro_name', 'S15'), ('as_ratio', '<f8'), ('liq_ice', '<i8'), ('rho_ms', '<f8'), ('a_ms', '<f8'), ('b_ms', '<f8'), ('alpha_as', '<f8'), ('beta_as', '<f8'), ('moment_in', '<i8'), ('nbin', '<i8'), ('dist_name', 'S15'), ('p_1', '<f8'), ('p_2', '<f8'), ('p_3', '<f8'), ('p_4', '<f8'), ('d_1', '<f8'), ('d_2', '<f8'), ('scat_name', 'S15'), ('vel_size_mod', 'S30'), ('canting', '<f8')]\n",
    "      )"
   ]
  },
  {
   "cell_type": "markdown",
   "metadata": {},
   "source": [
    "Table as panda DataFrame"
   ]
  },
  {
   "cell_type": "code",
   "execution_count": 4,
   "metadata": {},
   "outputs": [
    {
     "data": {
      "text/html": [
       "<div>\n",
       "<style scoped>\n",
       "    .dataframe tbody tr th:only-of-type {\n",
       "        vertical-align: middle;\n",
       "    }\n",
       "\n",
       "    .dataframe tbody tr th {\n",
       "        vertical-align: top;\n",
       "    }\n",
       "\n",
       "    .dataframe thead th {\n",
       "        text-align: right;\n",
       "    }\n",
       "</style>\n",
       "<table border=\"1\" class=\"dataframe\">\n",
       "  <thead>\n",
       "    <tr style=\"text-align: right;\">\n",
       "      <th></th>\n",
       "      <th>hydro_name</th>\n",
       "      <th>as_ratio</th>\n",
       "      <th>liq_ice</th>\n",
       "      <th>rho_ms</th>\n",
       "      <th>a_ms</th>\n",
       "      <th>b_ms</th>\n",
       "      <th>alpha_as</th>\n",
       "      <th>beta_as</th>\n",
       "      <th>moment_in</th>\n",
       "      <th>nbin</th>\n",
       "      <th>dist_name</th>\n",
       "      <th>p_1</th>\n",
       "      <th>p_2</th>\n",
       "      <th>p_3</th>\n",
       "      <th>p_4</th>\n",
       "      <th>d_1</th>\n",
       "      <th>d_2</th>\n",
       "      <th>scat_name</th>\n",
       "      <th>vel_size_mod</th>\n",
       "      <th>canting</th>\n",
       "    </tr>\n",
       "  </thead>\n",
       "  <tbody>\n",
       "    <tr>\n",
       "      <th>0</th>\n",
       "      <td>cwc_q</td>\n",
       "      <td>-99.0</td>\n",
       "      <td>1</td>\n",
       "      <td>-99.0</td>\n",
       "      <td>-99.000</td>\n",
       "      <td>-99.0</td>\n",
       "      <td>-99.0000</td>\n",
       "      <td>-99.00</td>\n",
       "      <td>3</td>\n",
       "      <td>1</td>\n",
       "      <td>mono</td>\n",
       "      <td>-99.0</td>\n",
       "      <td>-99.0</td>\n",
       "      <td>-99.0</td>\n",
       "      <td>-99.0</td>\n",
       "      <td>2.000000e-05</td>\n",
       "      <td>-99.000</td>\n",
       "      <td>mie-sphere</td>\n",
       "      <td>khvorostyanov01_drops</td>\n",
       "      <td>-99.0</td>\n",
       "    </tr>\n",
       "    <tr>\n",
       "      <th>1</th>\n",
       "      <td>iwc_q</td>\n",
       "      <td>-99.0</td>\n",
       "      <td>-1</td>\n",
       "      <td>-99.0</td>\n",
       "      <td>130.000</td>\n",
       "      <td>3.0</td>\n",
       "      <td>0.6840</td>\n",
       "      <td>2.00</td>\n",
       "      <td>3</td>\n",
       "      <td>1</td>\n",
       "      <td>mono_cosmo_ice</td>\n",
       "      <td>-99.0</td>\n",
       "      <td>-99.0</td>\n",
       "      <td>-99.0</td>\n",
       "      <td>-99.0</td>\n",
       "      <td>-9.900000e+01</td>\n",
       "      <td>-99.000</td>\n",
       "      <td>mie-sphere</td>\n",
       "      <td>heymsfield10_particles</td>\n",
       "      <td>-99.0</td>\n",
       "    </tr>\n",
       "    <tr>\n",
       "      <th>2</th>\n",
       "      <td>rwc_q</td>\n",
       "      <td>-99.0</td>\n",
       "      <td>1</td>\n",
       "      <td>-99.0</td>\n",
       "      <td>-99.000</td>\n",
       "      <td>-99.0</td>\n",
       "      <td>-99.0000</td>\n",
       "      <td>-99.00</td>\n",
       "      <td>3</td>\n",
       "      <td>50</td>\n",
       "      <td>exp</td>\n",
       "      <td>-99.0</td>\n",
       "      <td>-99.0</td>\n",
       "      <td>8000000.0</td>\n",
       "      <td>-99.0</td>\n",
       "      <td>1.200000e-04</td>\n",
       "      <td>0.006</td>\n",
       "      <td>mie-sphere</td>\n",
       "      <td>khvorostyanov01_drops</td>\n",
       "      <td>-99.0</td>\n",
       "    </tr>\n",
       "    <tr>\n",
       "      <th>3</th>\n",
       "      <td>swc_q</td>\n",
       "      <td>-99.0</td>\n",
       "      <td>-1</td>\n",
       "      <td>-99.0</td>\n",
       "      <td>0.038</td>\n",
       "      <td>2.0</td>\n",
       "      <td>0.3971</td>\n",
       "      <td>1.88</td>\n",
       "      <td>3</td>\n",
       "      <td>50</td>\n",
       "      <td>exp_cosmo_snow</td>\n",
       "      <td>-99.0</td>\n",
       "      <td>-99.0</td>\n",
       "      <td>-99.0</td>\n",
       "      <td>-99.0</td>\n",
       "      <td>5.100000e-11</td>\n",
       "      <td>0.020</td>\n",
       "      <td>mie-sphere</td>\n",
       "      <td>heymsfield10_particles</td>\n",
       "      <td>-99.0</td>\n",
       "    </tr>\n",
       "    <tr>\n",
       "      <th>4</th>\n",
       "      <td>gwc_q</td>\n",
       "      <td>-99.0</td>\n",
       "      <td>-1</td>\n",
       "      <td>-99.0</td>\n",
       "      <td>169.600</td>\n",
       "      <td>3.1</td>\n",
       "      <td>-99.0000</td>\n",
       "      <td>-99.00</td>\n",
       "      <td>3</td>\n",
       "      <td>50</td>\n",
       "      <td>exp</td>\n",
       "      <td>-99.0</td>\n",
       "      <td>-99.0</td>\n",
       "      <td>4000000.0</td>\n",
       "      <td>-99.0</td>\n",
       "      <td>1.000000e-10</td>\n",
       "      <td>0.010</td>\n",
       "      <td>mie-sphere</td>\n",
       "      <td>khvorostyanov01_spheres</td>\n",
       "      <td>-99.0</td>\n",
       "    </tr>\n",
       "  </tbody>\n",
       "</table>\n",
       "</div>"
      ],
      "text/plain": [
       "  hydro_name  as_ratio  liq_ice  rho_ms     a_ms  b_ms  alpha_as  beta_as  \\\n",
       "0      cwc_q     -99.0        1   -99.0  -99.000 -99.0  -99.0000   -99.00   \n",
       "1      iwc_q     -99.0       -1   -99.0  130.000   3.0    0.6840     2.00   \n",
       "2      rwc_q     -99.0        1   -99.0  -99.000 -99.0  -99.0000   -99.00   \n",
       "3      swc_q     -99.0       -1   -99.0    0.038   2.0    0.3971     1.88   \n",
       "4      gwc_q     -99.0       -1   -99.0  169.600   3.1  -99.0000   -99.00   \n",
       "\n",
       "   moment_in  nbin       dist_name   p_1   p_2        p_3   p_4           d_1  \\\n",
       "0          3     1            mono -99.0 -99.0      -99.0 -99.0  2.000000e-05   \n",
       "1          3     1  mono_cosmo_ice -99.0 -99.0      -99.0 -99.0 -9.900000e+01   \n",
       "2          3    50             exp -99.0 -99.0  8000000.0 -99.0  1.200000e-04   \n",
       "3          3    50  exp_cosmo_snow -99.0 -99.0      -99.0 -99.0  5.100000e-11   \n",
       "4          3    50             exp -99.0 -99.0  4000000.0 -99.0  1.000000e-10   \n",
       "\n",
       "      d_2   scat_name             vel_size_mod  canting  \n",
       "0 -99.000  mie-sphere    khvorostyanov01_drops    -99.0  \n",
       "1 -99.000  mie-sphere   heymsfield10_particles    -99.0  \n",
       "2   0.006  mie-sphere    khvorostyanov01_drops    -99.0  \n",
       "3   0.020  mie-sphere   heymsfield10_particles    -99.0  \n",
       "4   0.010  mie-sphere  khvorostyanov01_spheres    -99.0  "
      ]
     },
     "execution_count": 4,
     "metadata": {},
     "output_type": "execute_result"
    }
   ],
   "source": [
    "pn.DataFrame(descriptorFile)"
   ]
  },
  {
   "cell_type": "markdown",
   "metadata": {},
   "source": [
    "Add hydrometeor information to PAMTRA object"
   ]
  },
  {
   "cell_type": "code",
   "execution_count": 5,
   "metadata": {},
   "outputs": [],
   "source": [
    "for hyd in descriptorFile: pam.df.addHydrometeor(hyd)"
   ]
  },
  {
   "cell_type": "markdown",
   "metadata": {},
   "source": [
    "Read profiles into PAMTRA object"
   ]
  },
  {
   "cell_type": "code",
   "execution_count": 6,
   "metadata": {},
   "outputs": [],
   "source": [
    "pam.readPamtraProfile('/home/mech/workspace/pamtra/profile/example_input.lay')"
   ]
  },
  {
   "cell_type": "code",
   "execution_count": 7,
   "metadata": {},
   "outputs": [
    {
     "data": {
      "image/png": "[encoded data removed]",
      "text/plain": [
       "<matplotlib.figure.Figure at 0x7fbbd0f83b10>"
      ]
     },
     "metadata": {},
     "output_type": "display_data"
    }
   ],
   "source": [
    "fig = plt.figure(figsize=[12,4])\n",
    "fig.add_axes([0.1,0.1,0.25,0.8])\n",
    "plt.plot(pam.p['press'][0,0,:]/100.,pam.p['hgt'][0,0,:])\n",
    "plt.ylabel('height [m]')\n",
    "plt.xlabel('pressure [hPa]')\n",
    "fig.add_axes([0.425,0.1,0.25,0.8])\n",
    "plt.plot(pam.p['temp'][0,0,:],pam.p['hgt'][0,0,:])\n",
    "plt.xlabel('temperature [K]')\n",
    "fig.add_axes([0.75,0.1,0.25,0.8])\n",
    "plt.plot(pam.p['relhum'][0,0,:],pam.p['hgt'][0,0,:])\n",
    "plt.xlabel('rel. humidity [%]')\n",
    "plt.show()"
   ]
  },
  {
   "cell_type": "markdown",
   "metadata": {},
   "source": [
    "Define frequency grid"
   ]
  },
  {
   "cell_type": "code",
   "execution_count": 8,
   "metadata": {},
   "outputs": [],
   "source": [
    "freqs = np.arange(10.,200.,1.)"
   ]
  },
  {
   "cell_type": "markdown",
   "metadata": {},
   "source": [
    "Deactivate active simulations."
   ]
  },
  {
   "cell_type": "code",
   "execution_count": 9,
   "metadata": {},
   "outputs": [],
   "source": [
    "pam.nmlSet['active'] = False"
   ]
  },
  {
   "cell_type": "markdown",
   "metadata": {},
   "source": [
    "Run PAMTRA in parallel mode."
   ]
  },
  {
   "cell_type": "code",
   "execution_count": 10,
   "metadata": {},
   "outputs": [],
   "source": [
    "pam.runParallelPamtra(freqs, pp_deltaX=1, pp_deltaY=1, pp_deltaF=10, pp_local_workers=\"auto\")"
   ]
  },
  {
   "cell_type": "code",
   "execution_count": 11,
   "metadata": {},
   "outputs": [
    {
     "data": {
      "image/png": "[encoded data removed]",
      "text/plain": [
       "<matplotlib.figure.Figure at 0x7fbbd0d6c790>"
      ]
     },
     "metadata": {},
     "output_type": "display_data"
    }
   ],
   "source": [
    "plt.figure()\n",
    "plt.plot(freqs,pam.r[\"tb\"][0,0,0,0,:,0],label='upwelling T$_\\mathrm{B}$')\n",
    "plt.plot(freqs,pam.r[\"tb\"][0,0,1,31,:,0],label='downwelling T$_\\mathrm{B}$')\n",
    "plt.xlabel('frequency [GHz]')\n",
    "plt.ylabel('brightness temperature [K]')\n",
    "plt.legend(loc=4)\n",
    "plt.show()"
   ]
  }
 ],
 "metadata": {
  "kernelspec": {
   "display_name": "Python 2",
   "language": "python",
   "name": "python2"
  },
  "language_info": {
   "codemirror_mode": {
    "name": "ipython",
    "version": 2
   },
   "file_extension": ".py",
   "mimetype": "text/x-python",
   "name": "python",
   "nbconvert_exporter": "python",
   "pygments_lexer": "ipython2",
   "version": "2.7.15+"
  }
 },
 "nbformat": 4,
 "nbformat_minor": 2
}
